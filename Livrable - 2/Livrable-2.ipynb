{
 "cells": [
  {
   "cell_type": "markdown",
   "metadata": {},
   "source": [
    "# <center> La course à la rapidité<br/> Projet de la CesiCDP </center>\n",
    "\n",
    "![logocesi](https://lyon.cesi.fr/wp-content/uploads/sites/30/2020/04/Sans-titre-2-02-500x224.png)\n",
    "\n",
    "<div style=\"text-align:right\">\n",
    "    <strong> Développeurs </strong> : Jacob Antonin ; Larose Hugo ; Devrouete Corentin ; Genty Aurélien\n",
    "</div>\n",
    "\n",
    "<br/><br/>\n",
    "\n"
   ]
  },
  {
   "cell_type": "markdown",
   "metadata": {},
   "source": [
    "## <center>I - Introduction </center>\n",
    "\n",
    "<br/>\n",
    "En cette ère du XXIème siècle, nous vivons dans une société ou le rendement est mis à rude épreuve. Dans notre société actuelle, être <strong> le plus rapide est devenu une contrainte auquel tout le monde est confronté </strong>.\n",
    "\n",
    "De plus depuis les années 90, il y a eu une véritable prise de conscience mondiale de la nécessité de réduire la consommation d’énergie et des émissions de gaz à effet de serre. Les premiers engagements sont apparus lors de la signature du protocole de Kyoto en 1997. Mais son entrée en vigueur n’a finalement eu lieu qu’en 2005 et de nombreux scientifiques ont jugé les efforts insuffisants pour ralentir le réchauffement climatique. Depuis, d’autres engagements plus ambitieux ont vu le jour (division par 4 des émissions d’ici 2050 pour la France par exemple, engagements de certaines grandes villes comme Paris). Mais la tâche est compliquée. Les pouvoirs publics et les collectivités territoriales n’ont pas la possibilité d’obliger les entreprises et les particuliers à changer leurs habitudes pour atteindre ces objectifs. L’action se porte donc avant tout à faire évoluer les comportements. L’économie et le recyclage des matières premières, l’amélioration des modes de transports et des performances énergétiques des bâtiments doivent devenir des priorités.\n",
    "\n",
    "Dans ce sens, <strong> L’ADEME </strong> (Agence de l’Environnement et de la Maîtrise de l’Energie) a récemment lancé un appel à manifestation d’intérêt pour promouvoir la réalisation de démonstrateurs et d’expérimentations de nouvelles solutions de mobilité pour les personnes et les marchandises adaptées à différents types de territoires. \n",
    "\n",
    "Notre structure <strong> CesiCDP </strong> est déjà bien implantée dans le domaine. Aidé de nombreux partenaires, Nous avons réalisé plusieurs études sur le thème de la Mobilité Multimodale Intelligente. Les nouvelles technologies de transport, plus économiques et moins polluantes ne sont pas sans poser de nouveaux défis notamment d’un point de vue de l’optimisation de la gestion des ressources. Mais ces problèmes de logistique du transport présentent un enjeu majeur pour l’avenir : ses applications sont nombreuses (distribution du courrier, livraison de produits, traitement du réseau routier, ramassage des ordures) et leur impact sur l’environnement peut être véritablement significatif. \n",
    "\n",
    "<strong> <em> Notre étude s’inscrit donc dans le cadre d’une réponse à l’appel de l’ADEME. </em> </strong>\n",
    "\n",
    "<br/><br/>\n"
   ]
  },
  {
   "cell_type": "markdown",
   "metadata": {},
   "source": [
    "### <center>1 - Contexte </center>\n",
    "\n",
    "Le Problème de Tournées de Véhicules (VRP, Vehicle Routing Problem) est un des problèmes d’optimisation combinatoire les plus étudié. Il pose le problème suivant, visiter des clients à partir d’un dépôt et au moyen d’une flotte de véhicules, avec un coût minimal. De nombreuses variantes existent, dont certaines sont détaillées dans les sections suivantes. Historiquement, le VRP est une version étendue du Problème du Voyageur de Commerce (TSP, Traveling Salesman Problem), qui consiste à visiter l’ensemble des clients avec un seul véhicule.\n",
    "\n",
    "<br/><br/>\n",
    "\n",
    "<div style=\"color:red\">\n",
    "<strong>Notre projet sert donc à optimiser une tournée de livraison, de facon à obtenir une durée de transfert minimale entre son point de départ et d'arrivée, tout en gérant le traffic sur la route.</strong>\n",
    "   </div>\n",
    "\n",
    "<br/><br/>"
   ]
  },
  {
   "cell_type": "markdown",
   "metadata": {},
   "source": [
    " ## <center>II - Définition des variables de décision et de la fonction objectif </center>\n",
    " \n",
    " "
   ]
  },
  {
   "cell_type": "markdown",
   "metadata": {},
   "source": [
    "### <center>1 - Variables de décision </center>\n",
    "\n",
    "Tout d'abord, lors de ce projet il nous a fallu définir les variables de décision. \n",
    "\n",
    "Cette variable que nous avons défini : $x_i$  représentant la distance entre deux sommets (soit 2 villes)\n",
    "est la seule variable utilisé ici.\n",
    "\n",
    "<br/><br/>"
   ]
  },
  {
   "cell_type": "markdown",
   "metadata": {},
   "source": [
    "### <center>2 - Fonction objectif </center>\n",
    "\n",
    "Nous devons aussi définir la fonction objectif de ce problème, celle-ci étant d'obtenir le $Min$ de la somme des distances.\n",
    "$$\\sum_{i=1}^n x_i$$\n",
    "\n",
    "<br/><br/>"
   ]
  },
  {
   "cell_type": "markdown",
   "metadata": {},
   "source": [
    "### <center>3 - Implémentation de la matrice d'adjacence </center>"
   ]
  },
  {
   "cell_type": "code",
   "execution_count": 2,
   "metadata": {
    "tags": []
   },
   "outputs": [
    {
     "name": "stdout",
     "output_type": "stream",
     "text": [
      "---/ Bienvenue dans le générateur de ville \\--- \n",
      "\n",
      "Veuillez entrer le nombre de ville que vous voulez créer ... \n",
      "1\n",
      "Veuillez entrer le nom de fichier que vous voulez créer ... \n",
      "test1\n",
      "creation du fichier en cours . . . \n",
      "\n",
      "Le fichier à bien été créé, à bientot...\n"
     ]
    }
   ],
   "source": [
    "# @author : corentin\n",
    "import random\n",
    "import os\n",
    "import string \n",
    "import json\n",
    "\n",
    "#init de la liste contenant les villes\n",
    "city = {}\n",
    "\n",
    "# generation des villes une par une \n",
    "def generate_city(nb_ville_generer):\n",
    "\n",
    "    for i in range (0,nb_ville_generer):\n",
    "\n",
    "         city_name = generate_name(8)\n",
    "         city_position = generate_position(nb_ville_generer)\n",
    "         index = 'ville ' + str(i +1 ) \n",
    "\n",
    "         city[index] = {'nom_ville': city_name,  'position' : city_position}\n",
    "         \n",
    "\n",
    "    return city\n",
    "\n",
    "#generation d'un nom de ville \n",
    "def generate_name(stringLenght):\n",
    "    lettres = string.ascii_lowercase\n",
    "    name = ''.join(random.choice(lettres) for i in range(stringLenght))\n",
    "    return name \n",
    "\n",
    "#generation des position de la ville \n",
    "def generate_position(nb_ville_generer):\n",
    "    start_rand = 0\n",
    "    stop_rand = nb_ville_generer*4\n",
    "\n",
    "    x = random.randrange(start_rand, stop_rand)\n",
    "    y = random.randrange(start_rand, stop_rand)\n",
    "\n",
    "    position = [x,y]\n",
    "    \n",
    "    return position\n",
    "\n",
    "\n",
    "\n",
    "def createFile(filename, nb_ville_generer):   \n",
    "    dump = generate_city(nb_ville_generer)\n",
    "    filename_json = 'json_generate/' + filename + '.json' \n",
    "    # path_create = '/Livrable - 2/json_generate/'+ filename_json\n",
    "    # with open(path_create, 'w', encoding='utf-8') as f: \n",
    "    #     json.dump(dump, f, ensure_ascii=False)\n",
    "\n",
    "    f = open(filename_json, \"w+\")\n",
    "    json.dump(dump, f, ensure_ascii=False)\n",
    "\n",
    "    f.close()\n",
    "\n",
    "\n",
    "\n",
    "print(\"---/ Bienvenue dans le générateur de ville \\--- \\n\")\n",
    "nb_ville_generer = int(input(\"Veuillez entrer le nombre de ville que vous voulez créer ... \\n\"))\n",
    "filename = str(input(\"Veuillez entrer le nom de fichier que vous voulez créer ... \\n\"))\n",
    "print(\"creation du fichier en cours . . . \\n\")\n",
    "createFile(filename, nb_ville_generer)\n",
    "print(\"Le fichier à bien été créé, à bientot...\")"
   ]
  },
  {
   "cell_type": "code",
   "execution_count": 3,
   "metadata": {
    "scrolled": false
   },
   "outputs": [
    {
     "name": "stdout",
     "output_type": "stream",
     "text": [
      "Veuillez mettre le nom du fichier json a importer\n",
      "test1\n",
      "[[0]]\n"
     ]
    }
   ],
   "source": [
    "# @author : corentin\n",
    "import json\n",
    "import os\n",
    "import math\n",
    "from pprint import pprint\n",
    "\n",
    "#init des villes\n",
    "ville = None\n",
    "\n",
    "nom_fichier = input(\"Veuillez mettre le nom du fichier json a importer\\n\") + \".json\"\n",
    "\n",
    "#import du JSON de la ville\n",
    "path_fichier = os.path.join(\"json_generate\",nom_fichier)\n",
    "with open(path_fichier, \"r\") as f : \n",
    "    ville = json.load(f)\n",
    "\n",
    "\n",
    "#fonction d'implémentation de la matrice d'adjacence\n",
    "def create_matrice(ville):\n",
    "\n",
    "    matrice_adjacence = []\n",
    "\n",
    "    for ville_a in ville.items():\n",
    "        element_matrice = []\n",
    "        \n",
    "        x_a =  ville_a[1]['position'][0]\n",
    "        y_a = ville_a[1]['position'][1]\n",
    "        nom_ville_a = str(ville_a[1]['nom_ville'])\n",
    "\n",
    "        for ville_b in ville.items():\n",
    "           x_b = ville_b[1]['position'][0]\n",
    "           y_b = ville_b[1]['position'][1]\n",
    "           nom_ville_b = str(ville_b[1]['nom_ville'])\n",
    "\n",
    "           if nom_ville_a == nom_ville_b:\n",
    "               element_matrice.append(0)\n",
    "\n",
    "           else:\n",
    "               element_matrice.append(math.sqrt(math.pow(x_b - x_a, 2) + math.pow(y_b - y_a, 2)))\n",
    "\n",
    "        matrice_adjacence.append(element_matrice)\n",
    "    return matrice_adjacence\n",
    "\n",
    "\n",
    "pprint(create_matrice(ville))\n"
   ]
  },
  {
   "cell_type": "markdown",
   "metadata": {},
   "source": [
    "### <center>4 - Représentation d'un graphe via une matrice d'adjacence </center>"
   ]
  },
  {
   "cell_type": "code",
   "execution_count": 5,
   "metadata": {},
   "outputs": [
    {
     "name": "stdout",
     "output_type": "stream",
     "text": [
      "Veuillez mettre le nom du fichier json a importer\n",
      "test1000\n"
     ]
    },
    {
     "data": {
      "image/png": "[encoded data removed]",
      "text/plain": [
       "<Figure size 432x288 with 1 Axes>"
      ]
     },
     "metadata": {
      "needs_background": "light"
     },
     "output_type": "display_data"
    }
   ],
   "source": [
    "# @author : corentin, antonin\n",
    "import matplotlib.pyplot as plt\n",
    "import json\n",
    "import os\n",
    "import math\n",
    "from pprint import pprint\n",
    "\n",
    "ville = None\n",
    "\n",
    "nom_fichier = input(\"Veuillez mettre le nom du fichier json a importer\\n\") + \".json\"\n",
    "#import du JSON de la ville\n",
    "path_fichier = os.path.join(\"json_generate\",nom_fichier)\n",
    "with open(path_fichier, \"r\") as f : \n",
    "    ville = json.load(f)\n",
    "\n",
    "coor_x = []\n",
    "coor_y = []\n",
    "\n",
    "def create_matrice(ville):\n",
    "\n",
    "    matrice_adjacence = []\n",
    "\n",
    "    for ville_a in ville.items():\n",
    "        element_matrice = []\n",
    "        \n",
    "        x_a =  ville_a[1]['position'][0]\n",
    "        coor_x.append(x_a)\n",
    "        y_a = ville_a[1]['position'][1]\n",
    "        coor_y.append(y_a)\n",
    "        nom_ville_a = str(ville_a[1]['nom_ville'])\n",
    "\n",
    "        for ville_b in ville.items():\n",
    "           x_b = ville_b[1]['position'][0]\n",
    "           y_b = ville_b[1]['position'][1]\n",
    "           nom_ville_b = str(ville_b[1]['nom_ville'])\n",
    "\n",
    "           if nom_ville_a == nom_ville_b:\n",
    "               element_matrice.append(0)\n",
    "\n",
    "           else:\n",
    "               element_matrice.append(math.sqrt(math.pow(x_b - x_a, 2) + math.pow(y_b - y_a, 2)))\n",
    "\n",
    "        matrice_adjacence.append(element_matrice)\n",
    "    return matrice_adjacence\n",
    "\n",
    "\n",
    "matrice = create_matrice(ville)\n",
    "\n",
    "\n",
    "plt.title('Nuage de points avec Matplotlib')\n",
    "plt.xlabel('x')\n",
    "plt.ylabel('y')\n",
    "plt.scatter(coor_x, coor_y)\n",
    "plt.show()"
   ]
  },
  {
   "cell_type": "markdown",
   "metadata": {},
   "source": [
    "## <center>III - Modélisation du problème <center>"
   ]
  },
  {
   "cell_type": "markdown",
   "metadata": {},
   "source": [
    "### <center>1 - Complexité théorique <center>\n",
    "\n",
    "Le cas de la complexité du VRP s’approche de la complexité du voyageur de commerce.\n",
    "Or cette dernière s’apparente à deux problèmes :\n",
    "- <u>Le problème décisionnel :</u> peut-on effectuer un cycle remplissant les conditions de parcours ? (distance < k)\n",
    "- <u>Le problème de recherche de solution :</u> renvoyer une solution de parcours spécifique\n",
    "\n",
    "Le **VRP** quant à lui cherche à faire une **vérification d’un chemin optimisé parmi les solutions possibles** pour les différents parcours.\n",
    "C’est une comparaison directe effectuable par une opération simple linéaire qui en elle-même ne complexifie pas la solution au-delà d’une approche polynomiale (simplement trouver le plus haut élément K parmi une liste de taille n, donc une complexité minimale associé au tri-simplifié).\n",
    "Donc on peut apparenter la **complexité du VRP** à la classe de **complexité du problème du voyageur de commerce** tant que cette classe à une **complexité supérieur à P**.   \n",
    "\n",
    "                                                                                                                      \n",
    "La logique étant la suivante\n",
    "O de VRP= $O(Voyageur\\ de\\ commerce) + O(tri\\ simplifié)$  \n",
    "O (tri simplifié) s’apparente à $O(n)$ (ou moins) dans $P$, si $O(VdC)$ est dans NP alors P est un sous-ensemble de NP, donc la complexité passe en NP (ensemble global).\n",
    "                                                                                                              \n",
    "![ouaisimage](https://lh3.googleusercontent.com/IRabtwtwye7lixV70oZFAQ4_O0ISK-0Hf3p-N16vXshfV3z9SZh_VO_572l7PPitVD00kYM=s102)\n",
    "\n",
    "De même alors $O(tri simplifié) / O(VDC) -> 0$ en l’infini, donc $O(VRP)= O(tri simplifié)+ O(voyageur de commerce)~= O (VdC)$\n",
    "\n",
    "<br/><br/>\n",
    "\n",
    "Pour prouver la complexité du voyageur de commerce nous allons procéder de deux manières, **en premier par référence**, puis par une **vérification mathématique**.  \n",
    " \n",
    "<u>Par référence :</u>\n",
    "\n",
    "La complexité du voyageur de commerce est désigné comme NP-complet pour son problème décisionnelle, qui est de renvoyer un parcours.  \n",
    "Il a été démontré tel quel par Richard Karp parmi les 21 problèmes NP-complets de Karp.  \n",
    "Or la partie décisionnelle est la partie avec la plus faible complexité, car on cherche l’existence d’un parcours quelconque vérifiant VDC. \n",
    "***Ainsi notre borne inférieur (complexité minimale du problème) est au moins NP complet.***\n",
    "\n",
    "Nous allons par une approche mathématique déterminer que le problème n’est pas $NEXP$, ce qui nous permettra de créer une borne supérieure. \n",
    "Nous allons également vérifier que le problème n’est pas P :\n",
    "\n",
    "1)\tLa vérification et génération d’un cycle hamiltonien change d’exécution en exécution.\n",
    "    \n",
    "**Le problème n’est donc pas déterministe, ce qui est nécessaire pour être de complexité P**\n",
    "\n",
    "2)\tPour vérifier si un problème est dans NP, on doit vérifier :\n",
    "1. qu’il existe un certificat quantifiable et limité par les variables de décisions du problème\n",
    "2. que l’on peut approcher la complexité de la résolution dans le pire des cas, par un polynôme\n",
    "\n",
    "<u>Vérification du certificat (espace utilisé) :</u>\n",
    "    \n",
    "On remarque que le problème, pour une variable « nombre de villes » de taille n, renvoie une liste de villes de tailles n (notre parcours a une taille n), ainsi **notre certificat est bien réel et limité**. \n",
    "\n",
    "<u>Calcul de la solution</u>\n",
    "    \n",
    "- Via hiérarchisation \n",
    "    \n",
    "Instant initial :\n",
    "On a N villes possibles à choisir, soit n choix possibles à parcourir.\n",
    "On a donc **N pour la complexité de l’instant initial**\n",
    "\n",
    "- Instant K/étape K\n",
    "\n",
    "    \n",
    "A l’étape K, il nous reste N-k ville à parcourir (pour $N-K>1$). Or, on parcourt les N-k villes possible parmi le nombre de parcours précédent, après avoir voyagé vers la nouvelle ville, car on ne peut pas repasser par la même ville, **ce qui nous enlève 1 choix possible**. \n",
    "A l’étape $K+1$, on a $N-(k+1)$ choix possible parmi les parcours restants, ce qui prouve notre hiérarchisation.\n",
    "**L’instant final est déterminé par la situation** où il ne reste plus qu’une ville à parcourir avant de revenir à la case départ.\n",
    "\n",
    "\n",
    "- Opérations du programme\n",
    "\n",
    "Donc le programme s’avère effectuer n opération à l’instant $T0$, puis $n-1$ à l’instant suivant, on se retrouve donc avec $n*(n-1)*…*(n-k)*(n-(k+1)*…*1*1$, soit $n!$, on a donc une complexité en $O(n!)$  pour le nombre de parcours effectués, tout cela en présumant que la complexité de prendre 1 parcours parmi 1 choix est $O(1)$, dans le cas contraire, si il y a une complexité supérieure tel que $O(m)$, **la complexité est dès lors $O(n!*m)$**, m étant déterminé par les complexités des contraintes, ici supposé polynomiales.  \n",
    "Le problème peut également s’apparenter un polynôme de $n^n-k*n^(n-1)+…-j*n$\n",
    "Soit un polynôme dont le degré maximal est n et qui peut s’écrire $N^n-(N-1)!$\n",
    "Donc le critère numéro 2 est vérifié.\n",
    "    <br/><br/>\n",
    "\n",
    "<div style=\"color:red\">\n",
    "<strong> On a donc bien un programme donc la complexité maximale et minimale est NP complet, ainsi notre complexité est NP complet. </strong>\n",
    "    </div>\n",
    "<br/><br/>"
   ]
  },
  {
   "cell_type": "markdown",
   "metadata": {},
   "source": [
    "## <center>IV - Modélisation algorithmique <center>\n",
    "    \n"
   ]
  },
  {
   "cell_type": "markdown",
   "metadata": {},
   "source": [
    "### <center> 1 - Définition de l'algorithme génétique </center>\n",
    "\n",
    "Pour le choix de l'algorithme, nous avons décidé de prendre le génétique avec les paramètres suivant :\n",
    "\n",
    "<u>Gène :</u> une ville ; <br/>\n",
    "<u>Chromosome :</u> itinéraire satisfaisant ; <br/>\n",
    "<u>Population :</u> ensemble d'itinéraire possible ; <br/>\n",
    "<u>Parent :</u> 2 itinéraires combinés ;<br/>\n",
    "<u>Pool d'accouplement :</u> collection de parent à reproduire ; <br/>\n",
    "<u>Fitness :</u> fonction qui indique la qualité de l'itinéraire ; <br/>\n",
    "<u>Mutation :</u> variation de gène dans la population ; <br/>\n",
    "<u>Elitisme :</u> moyen de transporter un individu dans la prochaine génération. <br/><br/>\n",
    "\n",
    "Et poursuivant les étapes ci-dessous :<br/>\n",
    "\n",
    "    1- créer une population\n",
    "    2- Déterminer une aptitude (fitness)\n",
    "    3- Sélectionner un pool d'accouplement\n",
    "    4- Accoupler\n",
    "    5- Muter (en fonction des cas)\n",
    "    6- répéter jusqu'à la solution globale\n",
    "<br/>\n",
    "\n",
    "<u>Pourquoi choisir l'algorithme génétique ?</u>\n",
    "\n",
    "Tout d'abord l'algorithme génétique est un algortihme évolutionnistes, l'idée est de faire évoluer un ensemble de solutions à un problème donné, dans l'optique de trouver les meilleurs résultats. Ce qui est notre cas ici.\n",
    "\n",
    "Afin de permettre la résolution du problème, l'algorithme génétique se base sur la théorie de Friedlin et Wentzell des perturbations stochastiques des systèmes dynamiques. La démonstration de Cerf montre d'ailleurs que le processus de convergence dépend essentiellement de la mutation.\n",
    "\n",
    "De manière globale, on commence avec une population de base qui se compose le plus souvent de chaînes de caractères correspondant chacune à un chromosome.\n",
    "\n",
    "Le contenu de cette population initiale est généré aléatoirement. On attribue à chacune des solutions une note qui correspond à son adaptation au problème. Ensuite, on effectue une sélection au sein de cette population.\n",
    "\n",
    "\n",
    "Ensuite dans notre problème, la méthode de mutation ne devrait être capable de mélanger l'itinéraire, elle ne devrait jamais ajouter ou supprimer un emplacement de l'itinéraire, sinon elle risquerait de créer une solution invalide.\n",
    "\n",
    "Enfin, les performances des algorithmes génétiques par rapport aux algorithmes classiques sont plus marquées lorsque les espaces de recherches sont importants, puis lorsque l'on préfère avoir une solution relativement bonne rapidement plutôt qu'avoir la solution optimale en une durée indéfinie. C'est ainsi que les algorithmes génétiques sont utilisés.\n",
    "\n",
    "\n",
    "### <center> 2 - Code python de l'algorithme génétique </center>\n",
    "\n"
   ]
  },
  {
   "cell_type": "code",
   "execution_count": 4,
   "metadata": {},
   "outputs": [],
   "source": [
    "def grade_population(population):\n",
    "    \"\"\" Grade de la population. Retourne une liste de tuple (individu, fitness) trié par ordre décroissant de grade. \"\"\"\n",
    "    individus_grades = []\n",
    "    for individu in population:\n",
    "        individus_grades.append((individu, (individu.routeFitness)))\n",
    "    return sorted(individus_grades, key=lambda x: x[1], reverse=True)"
   ]
  },
  {
   "cell_type": "markdown",
   "metadata": {},
   "source": [
    "### <center> 3 - Contrainte rencontrée </center>\n",
    "\n",
    "Nous possèdons un nombre de camions simultanément pour effectuer les livraisons. Le calcul de la tournée inclue l’affectation des objets aux différents camions disponibles, et nous oblige à minimiser le temps total, à la date de retour du dernier camion à la base.\n",
    "- Capacité des camions (2 ou 3 dimensions) et encombrement des objets\n",
    "\n"
   ]
  },
  {
   "cell_type": "markdown",
   "metadata": {},
   "source": [
    "## <center>V - Etude statistique <center>"
   ]
  },
  {
   "cell_type": "code",
   "execution_count": null,
   "metadata": {},
   "outputs": [],
   "source": []
  }
 ],
 "metadata": {
  "kernelspec": {
   "display_name": "Python 3",
   "language": "python",
   "name": "python3"
  },
  "language_info": {
   "codemirror_mode": {
    "name": "ipython",
    "version": 3
   },
   "file_extension": ".py",
   "mimetype": "text/x-python",
   "name": "python",
   "nbconvert_exporter": "python",
   "pygments_lexer": "ipython3",
   "version": "3.8.3"
  }
 },
 "nbformat": 4,
 "nbformat_minor": 4
}
