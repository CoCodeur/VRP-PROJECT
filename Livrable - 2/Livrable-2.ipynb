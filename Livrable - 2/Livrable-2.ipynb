{
 "cells": [
  {
   "cell_type": "markdown",
   "metadata": {},
   "source": [
    "# <center> La course à la rapidité<br/> Projet de la CesiCDP </center>\n",
    "\n",
    "![logocesi](https://lyon.cesi.fr/wp-content/uploads/sites/30/2020/04/Sans-titre-2-02-500x224.png)\n",
    "\n",
    "<div style=\"text-align:right\">\n",
    "    <strong> Développeurs </strong> : Jacob Antonin ; Keurinck Théo ; <br/> Larose Hugo ; Devrouete Corentin ; Genty Aurélien\n",
    "</div>\n",
    "\n",
    "<br/><br/>\n",
    "\n"
   ]
  },
  {
   "cell_type": "markdown",
   "metadata": {},
   "source": [
    "## <center>I - Introduction </center>\n",
    "\n",
    "<br/>\n",
    "En cette ère du XXIème siècle, nous vivons dans une société ou le rendement est mis à rude épreuve. Dans notre société actuelle, être <strong> le plus rapide est devenu une contrainte auquel tout le monde est confronté </strong>.\n",
    "\n",
    "De plus depuis les années 90, il y a eu une véritable prise de conscience mondiale de la nécessité de réduire la consommation d’énergie et des émissions de gaz à effet de serre. Les premiers engagements sont apparus lors de la signature du protocole de Kyoto en 1997. Mais son entrée en vigueur n’a finalement eu lieu qu’en 2005 et de nombreux scientifiques ont jugé les efforts insuffisants pour ralentir le réchauffement climatique. Depuis, d’autres engagements plus ambitieux ont vu le jour (division par 4 des émissions d’ici 2050 pour la France par exemple, engagements de certaines grandes villes comme Paris). Mais la tâche est compliquée. Les pouvoirs publics et les collectivités territoriales n’ont pas la possibilité d’obliger les entreprises et les particuliers à changer leurs habitudes pour atteindre ces objectifs. L’action se porte donc avant tout à faire évoluer les comportements. L’économie et le recyclage des matières premières, l’amélioration des modes de transports et des performances énergétiques des bâtiments doivent devenir des priorités.\n",
    "\n",
    "Dans ce sens, <strong> L’ADEME </strong> (Agence de l’Environnement et de la Maîtrise de l’Energie) a récemment lancé un appel à manifestation d’intérêt pour promouvoir la réalisation de démonstrateurs et d’expérimentations de nouvelles solutions de mobilité pour les personnes et les marchandises adaptées à différents types de territoires. \n",
    "\n",
    "Notre structure <strong> CesiCDP </strong> est déjà bien implantée dans le domaine. Aidé de nombreux partenaires, Nous avons réalisé plusieurs études sur le thème de la Mobilité Multimodale Intelligente. Les nouvelles technologies de transport, plus économiques et moins polluantes ne sont pas sans poser de nouveaux défis notamment d’un point de vue de l’optimisation de la gestion des ressources. Mais ces problèmes de logistique du transport présentent un enjeu majeur pour l’avenir : ses applications sont nombreuses (distribution du courrier, livraison de produits, traitement du réseau routier, ramassage des ordures) et leur impact sur l’environnement peut être véritablement significatif. \n",
    "\n",
    "<strong> <em> Notre étude s’inscrit donc dans le cadre d’une réponse à l’appel de l’ADEME. </em> </strong>\n",
    "\n",
    "Notre projet sert donc à optimiser une tournée de livraison, de facon à obtenir une durée de transfert minimale entre son point de départ et d'arrivée, tout en gérant le traffic sur \n",
    "\n"
   ]
  },
  {
   "cell_type": "markdown",
   "metadata": {},
   "source": [
    " ## <center>II - Définition des variables de décision et de la fonction objectif </center>\n",
    " \n",
    " "
   ]
  },
  {
   "cell_type": "markdown",
   "metadata": {},
   "source": [
    "### <center>1 - Variables de décision </center>\n",
    "\n",
    "Tout d'abord, lors de ce projet il nous a fallu définir les variables de décision."
   ]
  },
  {
   "cell_type": "markdown",
   "metadata": {},
   "source": [
    "### <center>2 - Fonction objectif </center>"
   ]
  },
  {
   "cell_type": "code",
   "execution_count": null,
   "metadata": {
    "tags": []
   },
   "outputs": [
    {
     "name": "stdout",
     "output_type": "stream",
     "text": [
      "---/ Bienvenue dans le générateur de ville \\--- \n",
      "\n"
     ]
    }
   ],
   "source": [
    "import random\n",
    "import os\n",
    "import string \n",
    "import json\n",
    "\n",
    "#init de la liste contenant les villes\n",
    "city = {}\n",
    "\n",
    "# generation des villes une par une \n",
    "def generate_city(nb_ville_generer):\n",
    "\n",
    "    for i in range (0,nb_ville_generer):\n",
    "\n",
    "         city_name = generate_name(8)\n",
    "         city_position = generate_position(nb_ville_generer)\n",
    "         index = 'ville ' + str(i +1 ) \n",
    "\n",
    "         city[index] = {'nom_ville': city_name,  'position' : city_position}\n",
    "         \n",
    "\n",
    "    return city\n",
    "\n",
    "#generation d'un nom de ville \n",
    "def generate_name(stringLenght):\n",
    "    lettres = string.ascii_lowercase\n",
    "    name = ''.join(random.choice(lettres) for i in range(stringLenght))\n",
    "    return name \n",
    "\n",
    "#generation des position de la ville \n",
    "def generate_position(nb_ville_generer):\n",
    "    start_rand = 0\n",
    "    stop_rand = nb_ville_generer*4\n",
    "\n",
    "    x = random.randrange(start_rand, stop_rand)\n",
    "    y = random.randrange(start_rand, stop_rand)\n",
    "\n",
    "    position = [x,y]\n",
    "    \n",
    "    return position\n",
    "\n",
    "\n",
    "\n",
    "def createFile(filename, nb_ville_generer):   \n",
    "    dump = generate_city(nb_ville_generer)\n",
    "    filename_json = 'json_generate/' + filename + '.json' \n",
    "    # path_create = '/Livrable - 2/json_generate/'+ filename_json\n",
    "    # with open(path_create, 'w', encoding='utf-8') as f: \n",
    "    #     json.dump(dump, f, ensure_ascii=False)\n",
    "\n",
    "    f = open(filename_json, \"w+\")\n",
    "    json.dump(dump, f, ensure_ascii=False)\n",
    "\n",
    "    f.close()\n",
    "\n",
    "\n",
    "\n",
    "print(\"---/ Bienvenue dans le générateur de ville \\--- \\n\")\n",
    "nb_ville_generer = int(input(\"Veuillez entrer le nombre de ville que vous voulez créer ... \\n\"))\n",
    "filename = str(input(\"Veuillez entrer le nom de fichier que vous voulez créer ... \\n\"))\n",
    "print(\"creation du fichier en cours . . . \\n\")\n",
    "createFile(filename, nb_ville_generer)\n",
    "print(\"Le fichier à bien été créé, à bientot...\")"
   ]
  },
  {
   "cell_type": "markdown",
   "metadata": {},
   "source": [
    "### <center>3 - Implémentation de la matrice d'adjacence </center>"
   ]
  },
  {
   "cell_type": "code",
   "execution_count": 8,
   "metadata": {
    "scrolled": false
   },
   "outputs": [
    {
     "name": "stdout",
     "output_type": "stream",
     "text": [
      "Veuillez mettre le nom du fichier json a importer\n",
      "test10\n",
      "[[0,\n",
      "  20.12461179749811,\n",
      "  16.0312195418814,\n",
      "  3.605551275463989,\n",
      "  20.223748416156685,\n",
      "  22.02271554554524,\n",
      "  25.059928172283335,\n",
      "  17.46424919657298,\n",
      "  13.892443989449804,\n",
      "  24.041630560342615],\n",
      " [20.12461179749811,\n",
      "  0,\n",
      "  10.198039027185569,\n",
      "  23.706539182259394,\n",
      "  38.47076812334269,\n",
      "  23.021728866442675,\n",
      "  31.575306807693888,\n",
      "  27.313000567495326,\n",
      "  30.066592756745816,\n",
      "  43.60045871318328],\n",
      " [16.0312195418814,\n",
      "  10.198039027185569,\n",
      "  0,\n",
      "  19.026297590440446,\n",
      "  36.22154055254967,\n",
      "  13.038404810405298,\n",
      "  21.37755832643195,\n",
      "  17.4928556845359,\n",
      "  29.120439557122072,\n",
      "  36.6742416417845],\n",
      " [3.605551275463989,\n",
      "  23.706539182259394,\n",
      "  19.026297590440446,\n",
      "  0,\n",
      "  17.72004514666935,\n",
      "  23.323807579381203,\n",
      "  25.0,\n",
      "  17.204650534085253,\n",
      "  12.727922061357855,\n",
      "  20.518284528683193],\n",
      " [20.223748416156685,\n",
      "  38.47076812334269,\n",
      "  36.22154055254967,\n",
      "  17.72004514666935,\n",
      "  0,\n",
      "  40.718546143004666,\n",
      "  40.607881008493905,\n",
      "  33.015148038438355,\n",
      "  8.94427190999916,\n",
      "  20.223748416156685],\n",
      " [22.02271554554524,\n",
      "  23.021728866442675,\n",
      "  13.038404810405298,\n",
      "  23.323807579381203,\n",
      "  40.718546143004666,\n",
      "  0,\n",
      "  9.433981132056603,\n",
      "  10.198039027185569,\n",
      "  35.805027579936315,\n",
      "  34.132096331752024],\n",
      " [25.059928172283335,\n",
      "  31.575306807693888,\n",
      "  21.37755832643195,\n",
      "  25.0,\n",
      "  40.607881008493905,\n",
      "  9.433981132056603,\n",
      "  0,\n",
      "  7.810249675906654,\n",
      "  37.64306044943742,\n",
      "  29.427877939124322],\n",
      " [17.46424919657298,\n",
      "  27.313000567495326,\n",
      "  17.4928556845359,\n",
      "  17.204650534085253,\n",
      "  33.015148038438355,\n",
      "  10.198039027185569,\n",
      "  7.810249675906654,\n",
      "  0,\n",
      "  29.832867780352597,\n",
      "  24.020824298928627],\n",
      " [13.892443989449804,\n",
      "  30.066592756745816,\n",
      "  29.120439557122072,\n",
      "  12.727922061357855,\n",
      "  8.94427190999916,\n",
      "  35.805027579936315,\n",
      "  37.64306044943742,\n",
      "  29.832867780352597,\n",
      "  0,\n",
      "  24.515301344262525],\n",
      " [24.041630560342615,\n",
      "  43.60045871318328,\n",
      "  36.6742416417845,\n",
      "  20.518284528683193,\n",
      "  20.223748416156685,\n",
      "  34.132096331752024,\n",
      "  29.427877939124322,\n",
      "  24.020824298928627,\n",
      "  24.515301344262525,\n",
      "  0]]\n"
     ]
    }
   ],
   "source": [
    "import json\n",
    "import os\n",
    "import math\n",
    "from pprint import pprint\n",
    "\n",
    "#init des villes\n",
    "ville = None\n",
    "\n",
    "nom_fichier = input(\"Veuillez mettre le nom du fichier json a importer\\n\") + \".json\"\n",
    "\n",
    "#import du JSON de la ville\n",
    "path_fichier = os.path.join(\"json_generate\",nom_fichier)\n",
    "with open(path_fichier, \"r\") as f : \n",
    "    ville = json.load(f)\n",
    "\n",
    "\n",
    "#fonction d'implémentation de la matrice d'adjacence\n",
    "def create_matrice(ville):\n",
    "\n",
    "    matrice_adjacence = []\n",
    "\n",
    "    for ville_a in ville.items():\n",
    "        element_matrice = []\n",
    "        \n",
    "        x_a =  ville_a[1]['position'][0]\n",
    "        y_a = ville_a[1]['position'][1]\n",
    "        nom_ville_a = str(ville_a[1]['nom_ville'])\n",
    "\n",
    "        for ville_b in ville.items():\n",
    "           x_b = ville_b[1]['position'][0]\n",
    "           y_b = ville_b[1]['position'][1]\n",
    "           nom_ville_b = str(ville_b[1]['nom_ville'])\n",
    "\n",
    "           if nom_ville_a == nom_ville_b:\n",
    "               element_matrice.append(0)\n",
    "\n",
    "           else:\n",
    "               element_matrice.append(math.sqrt(math.pow(x_b - x_a, 2) + math.pow(y_b - y_a, 2)))\n",
    "\n",
    "        matrice_adjacence.append(element_matrice)\n",
    "    return matrice_adjacence\n",
    "\n",
    "\n",
    "pprint(create_matrice(ville))\n"
   ]
  },
  {
   "cell_type": "markdown",
   "metadata": {},
   "source": [
    "### <center>4 - Représentation d'un graphe via une matrice d'adjacence </center>"
   ]
  },
  {
   "cell_type": "markdown",
   "metadata": {},
   "source": [
    "## <center>III - Modélisation du problème <center>"
   ]
  },
  {
   "cell_type": "markdown",
   "metadata": {},
   "source": [
    "### <center>1 - Complexité théorique <center>\n",
    "\n",
    "Le problème est NP-Complet !\n"
   ]
  },
  {
   "cell_type": "markdown",
   "metadata": {},
   "source": [
    "## <center>IV - Modélisation algorithmique <center>"
   ]
  },
  {
   "cell_type": "markdown",
   "metadata": {},
   "source": [
    "## <center>V - Etude statistique <center>"
   ]
  }
 ],
 "metadata": {
  "kernelspec": {
   "display_name": "Python 3",
   "language": "python",
   "name": "python3"
  },
  "language_info": {
   "codemirror_mode": {
    "name": "ipython",
    "version": 3
   },
   "file_extension": ".py",
   "mimetype": "text/x-python",
   "name": "python",
   "nbconvert_exporter": "python",
   "pygments_lexer": "ipython3",
   "version": "3.8.3"
  }
 },
 "nbformat": 4,
 "nbformat_minor": 4
}
