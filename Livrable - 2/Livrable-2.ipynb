{
 "cells": [
  {
   "cell_type": "code",
   "execution_count": 1,
   "metadata": {},
   "outputs": [
    {
     "name": "stdout",
     "output_type": "stream",
     "text": [
      "---/ Bienvenue dans le générateur de ville \\--- \n",
      "\n",
      "Veuillez entrer le nombre de ville que vous voulez créer ... \n",
      "500000\n",
      "Veuillez entrer le nom de fichier que vous voulez créer ... \n",
      "Test-500000\n",
      "creation du fichier en cours . . . \n",
      "\n",
      "Le fichier à bien été créé, à bientot...\n"
     ]
    }
   ],
   "source": [
    "# ------ @author corentin ------ #\n",
    "\n",
    "import random\n",
    "import os\n",
    "import string \n",
    "import json\n",
    "\n",
    "#init de la liste contenant les villes\n",
    "city = {}\n",
    "\n",
    "# generation des villes une par une \n",
    "def generate_city(nb_ville_generer):\n",
    "\n",
    "    for i in range (0,nb_ville_generer):\n",
    "\n",
    "         city_name = generate_name(8)\n",
    "         city_position = generate_position(nb_ville_generer)\n",
    "         index = 'ville ' + str(i +1 ) \n",
    "\n",
    "         city[index] = [city_name, city_position]\n",
    "\n",
    "    return city\n",
    "\n",
    "#generation d'un nom de ville \n",
    "def generate_name(stringLenght):\n",
    "    lettres = string.ascii_lowercase\n",
    "    name = ''.join(random.choice(lettres) for i in range(stringLenght))\n",
    "    return name \n",
    "\n",
    "#generation des position de la ville \n",
    "def generate_position(nb_ville_generer):\n",
    "    start_rand = 0\n",
    "    stop_rand = nb_ville_generer*4\n",
    "\n",
    "    x = random.randrange(start_rand, stop_rand)\n",
    "    y = random.randrange(start_rand, stop_rand)\n",
    "\n",
    "    position = [x,y]\n",
    "    \n",
    "    return position\n",
    "\n",
    "\n",
    "\n",
    "def createFile(filename, nb_ville_generer):   \n",
    "    dump = generate_city(nb_ville_generer)\n",
    "    filename_json = 'json_generate/' + filename + '.json' \n",
    "    # path_create = '/Livrable - 2/json_generate/'+ filename_json\n",
    "    # with open(path_create, 'w', encoding='utf-8') as f: \n",
    "    #     json.dump(dump, f, ensure_ascii=False)\n",
    "\n",
    "    f = open(filename_json, \"w+\")\n",
    "    json.dump(dump, f, ensure_ascii=False)\n",
    "\n",
    "    f.close()\n",
    "\n",
    "\n",
    "        \n",
    "\n",
    "\n",
    "print(\"---/ Bienvenue dans le générateur de ville \\--- \\n\")\n",
    "nb_ville_generer = int(input(\"Veuillez entrer le nombre de ville que vous voulez créer ... \\n\"))\n",
    "filename = str(input(\"Veuillez entrer le nom de fichier que vous voulez créer ... \\n\"))\n",
    "print(\"creation du fichier en cours . . . \\n\")\n",
    "createFile(filename, nb_ville_generer)\n",
    "print(\"Le fichier à bien été créé, à bientot...\")"
   ]
  },
  {
   "cell_type": "code",
   "execution_count": null,
   "metadata": {},
   "outputs": [],
   "source": []
  }
 ],
 "metadata": {
  "kernelspec": {
   "display_name": "Python 3",
   "language": "python",
   "name": "python3"
  },
  "language_info": {
   "codemirror_mode": {
    "name": "ipython",
    "version": 3
   },
   "file_extension": ".py",
   "mimetype": "text/x-python",
   "name": "python",
   "nbconvert_exporter": "python",
   "pygments_lexer": "ipython3",
   "version": "3.8.3"
  }
 },
 "nbformat": 4,
 "nbformat_minor": 4
}
