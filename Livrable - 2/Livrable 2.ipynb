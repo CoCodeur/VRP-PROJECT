{
 "cells": [
  {
   "cell_type": "markdown",
   "metadata": {},
   "source": [
    "# Livrable 2 : Modélisation (check/non évalué)\n",
    "\n",
    "Deadline : \tVendredi 19/06/2020 \n",
    "\n",
    "Objectif : \tModéliser le problème au travers d’un Notebook Jupyter\n",
    "\n",
    "Description :\n",
    "Le notebook au format Jupyter doit présenter vos travaux et les résultats que vous avez obtenus. L'aspect story-telling doit être privilégié dans la rédaction. Des références d'articles scientifiques ou d'ouvrages spécialisés peuvent être incluses, et les résultats comparés avec ceux obtenus par votre implémentation. Les points abordés incluent (pas nécessairement dans cet ordre) :\n",
    "-\tModélisation du problème algorithmique\n",
    "o\tDéfinition du périmètre d’étude du problème (reformulation du besoin, rappel des objectifs de l’étude, choix des contraintes, identification du problème à un problème d’étude connu\n",
    "o\tDéfinition mathématique du problème\n",
    "o\tEtude de complexité du problème\n",
    "-\tExplication de la méthode de résolution\n",
    "-\tIllustration de la méthode de résolution au travers de différents cas de tests\n",
    "Ce livrable n’est pas évalué. Le point réalisé avec le tuteur de projet vous permettra de bien valider votre modélisation avant l’implémentation. Les éléments pourront être modifiés avant d’être intégrés dans le livrables 3.\n"
   ]
  },
  {
   "cell_type": "code",
   "execution_count": null,
   "metadata": {},
   "outputs": [],
   "source": []
  }
 ],
 "metadata": {
  "kernelspec": {
   "display_name": "Python 3",
   "language": "python",
   "name": "python3"
  },
  "language_info": {
   "codemirror_mode": {
    "name": "ipython",
    "version": 3
   },
   "file_extension": ".py",
   "mimetype": "text/x-python",
   "name": "python",
   "nbconvert_exporter": "python",
   "pygments_lexer": "ipython3",
   "version": "3.8.3"
  }
 },
 "nbformat": 4,
 "nbformat_minor": 4
}
